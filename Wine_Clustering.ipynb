{
 "cells": [
  {
   "cell_type": "markdown",
   "metadata": {},
   "source": [
    "# Problem"
   ]
  },
  {
   "cell_type": "markdown",
   "metadata": {},
   "source": [
    "To To cluster wine based on the different checmical composition values. We will be using k-means clustering to solve this problem. The attributes that will be used are as follows,\n",
    "\n",
    "1. Alcohol\n",
    "2. Malic Acid\n",
    "3. Ash\n",
    "4. Acalinity of Ash\n",
    "5. Manganesium\n",
    "6. Total phenols\n",
    "7. Flavanoids\n",
    "8. NonFlavanoid phenols\n",
    "9. Proanthocyanins\n",
    "10. Color intensity\n",
    "11. Hue\n",
    "12. OD280/OD315 of diluted wines\n",
    "13. Proline\n",
    "14. ClassLabel(y)\n",
    "\n",
    "All the above columns are continuous values. "
   ]
  },
  {
   "cell_type": "markdown",
   "metadata": {},
   "source": [
    "# Process Flow"
   ]
  },
  {
   "cell_type": "markdown",
   "metadata": {},
   "source": [
    "We will follow the below steps to cluster the data,\n",
    "\n",
    "1. Reading the Data.\n",
    "2. Data Cleaning.\n",
    "3. Data Exploration & Feature Engineering.\n",
    "4. Identifying number of clusters using ELBOW METHOD.\n",
    "5. Modelling data using K-means clustering.\n",
    "\n",
    "So let's begin with reading data into dataframe."
   ]
  },
  {
   "cell_type": "markdown",
   "metadata": {},
   "source": [
    "## Reading Data\n",
    "\n",
    "We will be using Pandas libraby to read data."
   ]
  },
  {
   "cell_type": "code",
   "execution_count": 1,
   "metadata": {},
   "outputs": [],
   "source": [
    "import pandas as pd\n",
    "\n",
    "column_list=['class','Alcohol','Malic Acid','Ash','Acalinity of Ash','Manganesium','Total phenols','Flavanoids','NonFlavanoid phenols','Proanthocyanins','Color intensity','Hue','OD280/OD315 of diluted wines','Proline']\n",
    "\n",
    "data = pd.read_csv(r'C:\\Users\\satis\\Desktop\\BigData - Assigsnment 1\\Assignment2\\data\\wine.csv', names=column_list)\n",
    "\n",
    "\n",
    "#dropping the class column as we want to predict them.\n",
    "y= data['class']\n",
    "\n",
    "data.drop(['class'],axis=1,inplace=True)"
   ]
  },
  {
   "cell_type": "code",
   "execution_count": 2,
   "metadata": {},
   "outputs": [
    {
     "data": {
      "text/html": [
       "<div>\n",
       "<style scoped>\n",
       "    .dataframe tbody tr th:only-of-type {\n",
       "        vertical-align: middle;\n",
       "    }\n",
       "\n",
       "    .dataframe tbody tr th {\n",
       "        vertical-align: top;\n",
       "    }\n",
       "\n",
       "    .dataframe thead th {\n",
       "        text-align: right;\n",
       "    }\n",
       "</style>\n",
       "<table border=\"1\" class=\"dataframe\">\n",
       "  <thead>\n",
       "    <tr style=\"text-align: right;\">\n",
       "      <th></th>\n",
       "      <th>Alcohol</th>\n",
       "      <th>Malic Acid</th>\n",
       "      <th>Ash</th>\n",
       "      <th>Acalinity of Ash</th>\n",
       "      <th>Manganesium</th>\n",
       "      <th>Total phenols</th>\n",
       "      <th>Flavanoids</th>\n",
       "      <th>NonFlavanoid phenols</th>\n",
       "      <th>Proanthocyanins</th>\n",
       "      <th>Color intensity</th>\n",
       "      <th>Hue</th>\n",
       "      <th>OD280/OD315 of diluted wines</th>\n",
       "      <th>Proline</th>\n",
       "    </tr>\n",
       "  </thead>\n",
       "  <tbody>\n",
       "    <tr>\n",
       "      <th>0</th>\n",
       "      <td>14.23</td>\n",
       "      <td>1.71</td>\n",
       "      <td>2.43</td>\n",
       "      <td>15.6</td>\n",
       "      <td>127</td>\n",
       "      <td>2.80</td>\n",
       "      <td>3.06</td>\n",
       "      <td>0.28</td>\n",
       "      <td>2.29</td>\n",
       "      <td>5.64</td>\n",
       "      <td>1.04</td>\n",
       "      <td>3.92</td>\n",
       "      <td>1065</td>\n",
       "    </tr>\n",
       "    <tr>\n",
       "      <th>1</th>\n",
       "      <td>13.20</td>\n",
       "      <td>1.78</td>\n",
       "      <td>2.14</td>\n",
       "      <td>11.2</td>\n",
       "      <td>100</td>\n",
       "      <td>2.65</td>\n",
       "      <td>2.76</td>\n",
       "      <td>0.26</td>\n",
       "      <td>1.28</td>\n",
       "      <td>4.38</td>\n",
       "      <td>1.05</td>\n",
       "      <td>3.40</td>\n",
       "      <td>1050</td>\n",
       "    </tr>\n",
       "    <tr>\n",
       "      <th>2</th>\n",
       "      <td>13.16</td>\n",
       "      <td>2.36</td>\n",
       "      <td>2.67</td>\n",
       "      <td>18.6</td>\n",
       "      <td>101</td>\n",
       "      <td>2.80</td>\n",
       "      <td>3.24</td>\n",
       "      <td>0.30</td>\n",
       "      <td>2.81</td>\n",
       "      <td>5.68</td>\n",
       "      <td>1.03</td>\n",
       "      <td>3.17</td>\n",
       "      <td>1185</td>\n",
       "    </tr>\n",
       "    <tr>\n",
       "      <th>3</th>\n",
       "      <td>14.37</td>\n",
       "      <td>1.95</td>\n",
       "      <td>2.50</td>\n",
       "      <td>16.8</td>\n",
       "      <td>113</td>\n",
       "      <td>3.85</td>\n",
       "      <td>3.49</td>\n",
       "      <td>0.24</td>\n",
       "      <td>2.18</td>\n",
       "      <td>7.80</td>\n",
       "      <td>0.86</td>\n",
       "      <td>3.45</td>\n",
       "      <td>1480</td>\n",
       "    </tr>\n",
       "    <tr>\n",
       "      <th>4</th>\n",
       "      <td>13.24</td>\n",
       "      <td>2.59</td>\n",
       "      <td>2.87</td>\n",
       "      <td>21.0</td>\n",
       "      <td>118</td>\n",
       "      <td>2.80</td>\n",
       "      <td>2.69</td>\n",
       "      <td>0.39</td>\n",
       "      <td>1.82</td>\n",
       "      <td>4.32</td>\n",
       "      <td>1.04</td>\n",
       "      <td>2.93</td>\n",
       "      <td>735</td>\n",
       "    </tr>\n",
       "  </tbody>\n",
       "</table>\n",
       "</div>"
      ],
      "text/plain": [
       "   Alcohol  Malic Acid   Ash  Acalinity of Ash  Manganesium  Total phenols  \\\n",
       "0    14.23        1.71  2.43              15.6          127           2.80   \n",
       "1    13.20        1.78  2.14              11.2          100           2.65   \n",
       "2    13.16        2.36  2.67              18.6          101           2.80   \n",
       "3    14.37        1.95  2.50              16.8          113           3.85   \n",
       "4    13.24        2.59  2.87              21.0          118           2.80   \n",
       "\n",
       "   Flavanoids  NonFlavanoid phenols  Proanthocyanins  Color intensity   Hue  \\\n",
       "0        3.06                  0.28             2.29             5.64  1.04   \n",
       "1        2.76                  0.26             1.28             4.38  1.05   \n",
       "2        3.24                  0.30             2.81             5.68  1.03   \n",
       "3        3.49                  0.24             2.18             7.80  0.86   \n",
       "4        2.69                  0.39             1.82             4.32  1.04   \n",
       "\n",
       "   OD280/OD315 of diluted wines  Proline  \n",
       "0                          3.92     1065  \n",
       "1                          3.40     1050  \n",
       "2                          3.17     1185  \n",
       "3                          3.45     1480  \n",
       "4                          2.93      735  "
      ]
     },
     "execution_count": 2,
     "metadata": {},
     "output_type": "execute_result"
    }
   ],
   "source": [
    "data.head()"
   ]
  },
  {
   "cell_type": "code",
   "execution_count": 3,
   "metadata": {},
   "outputs": [
    {
     "data": {
      "text/plain": [
       "(178, 13)"
      ]
     },
     "execution_count": 3,
     "metadata": {},
     "output_type": "execute_result"
    }
   ],
   "source": [
    "data.shape"
   ]
  },
  {
   "cell_type": "code",
   "execution_count": 4,
   "metadata": {},
   "outputs": [
    {
     "data": {
      "text/plain": [
       "0    1\n",
       "1    1\n",
       "2    1\n",
       "3    1\n",
       "4    1\n",
       "Name: class, dtype: int64"
      ]
     },
     "execution_count": 4,
     "metadata": {},
     "output_type": "execute_result"
    }
   ],
   "source": [
    "y.head()"
   ]
  },
  {
   "cell_type": "markdown",
   "metadata": {},
   "source": [
    "# Data cleaning"
   ]
  },
  {
   "cell_type": "markdown",
   "metadata": {},
   "source": [
    "## Checking for null values"
   ]
  },
  {
   "cell_type": "code",
   "execution_count": 5,
   "metadata": {},
   "outputs": [
    {
     "data": {
      "text/plain": [
       "Alcohol                         0\n",
       "Malic Acid                      0\n",
       "Ash                             0\n",
       "Acalinity of Ash                0\n",
       "Manganesium                     0\n",
       "Total phenols                   0\n",
       "Flavanoids                      0\n",
       "NonFlavanoid phenols            0\n",
       "Proanthocyanins                 0\n",
       "Color intensity                 0\n",
       "Hue                             0\n",
       "OD280/OD315 of diluted wines    0\n",
       "Proline                         0\n",
       "dtype: int64"
      ]
     },
     "execution_count": 5,
     "metadata": {},
     "output_type": "execute_result"
    }
   ],
   "source": [
    "data.isna().sum()"
   ]
  },
  {
   "cell_type": "markdown",
   "metadata": {},
   "source": [
    "We do not have any null values but we need to check for any discrepencies in data."
   ]
  },
  {
   "cell_type": "markdown",
   "metadata": {},
   "source": [
    "## Identifying and Removing outliers"
   ]
  },
  {
   "cell_type": "markdown",
   "metadata": {},
   "source": [
    "Removing outliers is an important task in data cleaning and w.r.t to clustering it plays a major role as it removes values that would not belong to any cluster or it will complicate the boundary of the clusters. Lets plot box plot to visualize the outlier."
   ]
  },
  {
   "cell_type": "code",
   "execution_count": 6,
   "metadata": {},
   "outputs": [],
   "source": [
    "columns = data.columns.tolist()"
   ]
  },
  {
   "cell_type": "code",
   "execution_count": 7,
   "metadata": {},
   "outputs": [
    {
     "data": {
      "text/plain": [
       "<matplotlib.axes._subplots.AxesSubplot at 0x1cdf51a2dd8>"
      ]
     },
     "execution_count": 7,
     "metadata": {},
     "output_type": "execute_result"
    },
    {
     "data": {
      "image/png": "[encoded data removed]",
      "text/plain": [
       "<Figure size 432x288 with 1 Axes>"
      ]
     },
     "metadata": {
      "needs_background": "light"
     },
     "output_type": "display_data"
    }
   ],
   "source": [
    "data[columns[0:4]].plot(kind='box')"
   ]
  },
  {
   "cell_type": "code",
   "execution_count": 8,
   "metadata": {},
   "outputs": [
    {
     "data": {
      "text/plain": [
       "<matplotlib.axes._subplots.AxesSubplot at 0x1cdf595b978>"
      ]
     },
     "execution_count": 8,
     "metadata": {},
     "output_type": "execute_result"
    },
    {
     "data": {
      "image/png": "[encoded data removed]",
      "text/plain": [
       "<Figure size 432x288 with 1 Axes>"
      ]
     },
     "metadata": {
      "needs_background": "light"
     },
     "output_type": "display_data"
    }
   ],
   "source": [
    "data[columns[5:9]].plot(kind='box')"
   ]
  },
  {
   "cell_type": "code",
   "execution_count": 9,
   "metadata": {},
   "outputs": [
    {
     "data": {
      "text/plain": [
       "<matplotlib.axes._subplots.AxesSubplot at 0x1cdf5a2b1d0>"
      ]
     },
     "execution_count": 9,
     "metadata": {},
     "output_type": "execute_result"
    },
    {
     "data": {
      "image/png": "[encoded data removed]",
      "text/plain": [
       "<Figure size 432x288 with 1 Axes>"
      ]
     },
     "metadata": {
      "needs_background": "light"
     },
     "output_type": "display_data"
    }
   ],
   "source": [
    "data[columns[10:13]].plot(kind='box')"
   ]
  },
  {
   "cell_type": "markdown",
   "metadata": {},
   "source": [
    "As we can see that the outlier are considerably in small numbers. So we willl not be removing them as they will be assigned to some cluster and it wont impact the overall outcome."
   ]
  },
  {
   "cell_type": "markdown",
   "metadata": {},
   "source": [
    "## Feature Engineering"
   ]
  },
  {
   "cell_type": "markdown",
   "metadata": {},
   "source": [
    "First, Let's check the correlation between the features."
   ]
  },
  {
   "cell_type": "code",
   "execution_count": 10,
   "metadata": {},
   "outputs": [
    {
     "data": {
      "text/html": [
       "<div>\n",
       "<style scoped>\n",
       "    .dataframe tbody tr th:only-of-type {\n",
       "        vertical-align: middle;\n",
       "    }\n",
       "\n",
       "    .dataframe tbody tr th {\n",
       "        vertical-align: top;\n",
       "    }\n",
       "\n",
       "    .dataframe thead th {\n",
       "        text-align: right;\n",
       "    }\n",
       "</style>\n",
       "<table border=\"1\" class=\"dataframe\">\n",
       "  <thead>\n",
       "    <tr style=\"text-align: right;\">\n",
       "      <th></th>\n",
       "      <th>Alcohol</th>\n",
       "      <th>Malic Acid</th>\n",
       "      <th>Ash</th>\n",
       "      <th>Acalinity of Ash</th>\n",
       "      <th>Manganesium</th>\n",
       "      <th>Total phenols</th>\n",
       "      <th>Flavanoids</th>\n",
       "      <th>NonFlavanoid phenols</th>\n",
       "      <th>Proanthocyanins</th>\n",
       "      <th>Color intensity</th>\n",
       "      <th>Hue</th>\n",
       "      <th>OD280/OD315 of diluted wines</th>\n",
       "      <th>Proline</th>\n",
       "    </tr>\n",
       "  </thead>\n",
       "  <tbody>\n",
       "    <tr>\n",
       "      <th>Alcohol</th>\n",
       "      <td>1.000000</td>\n",
       "      <td>0.094397</td>\n",
       "      <td>0.211545</td>\n",
       "      <td>0.310235</td>\n",
       "      <td>0.270798</td>\n",
       "      <td>0.289101</td>\n",
       "      <td>0.236815</td>\n",
       "      <td>0.155929</td>\n",
       "      <td>0.136698</td>\n",
       "      <td>0.546364</td>\n",
       "      <td>0.071747</td>\n",
       "      <td>0.072343</td>\n",
       "      <td>0.643720</td>\n",
       "    </tr>\n",
       "    <tr>\n",
       "      <th>Malic Acid</th>\n",
       "      <td>0.094397</td>\n",
       "      <td>1.000000</td>\n",
       "      <td>0.164045</td>\n",
       "      <td>0.288500</td>\n",
       "      <td>0.054575</td>\n",
       "      <td>0.335167</td>\n",
       "      <td>0.411007</td>\n",
       "      <td>0.292977</td>\n",
       "      <td>0.220746</td>\n",
       "      <td>0.248985</td>\n",
       "      <td>0.561296</td>\n",
       "      <td>0.368710</td>\n",
       "      <td>0.192011</td>\n",
       "    </tr>\n",
       "    <tr>\n",
       "      <th>Ash</th>\n",
       "      <td>0.211545</td>\n",
       "      <td>0.164045</td>\n",
       "      <td>1.000000</td>\n",
       "      <td>0.443367</td>\n",
       "      <td>0.286587</td>\n",
       "      <td>0.128980</td>\n",
       "      <td>0.115077</td>\n",
       "      <td>0.186230</td>\n",
       "      <td>0.009652</td>\n",
       "      <td>0.258887</td>\n",
       "      <td>0.074667</td>\n",
       "      <td>0.003911</td>\n",
       "      <td>0.223626</td>\n",
       "    </tr>\n",
       "    <tr>\n",
       "      <th>Acalinity of Ash</th>\n",
       "      <td>0.310235</td>\n",
       "      <td>0.288500</td>\n",
       "      <td>0.443367</td>\n",
       "      <td>1.000000</td>\n",
       "      <td>0.083333</td>\n",
       "      <td>0.321113</td>\n",
       "      <td>0.351370</td>\n",
       "      <td>0.361922</td>\n",
       "      <td>0.197327</td>\n",
       "      <td>0.018732</td>\n",
       "      <td>0.273955</td>\n",
       "      <td>0.276769</td>\n",
       "      <td>0.440597</td>\n",
       "    </tr>\n",
       "    <tr>\n",
       "      <th>Manganesium</th>\n",
       "      <td>0.270798</td>\n",
       "      <td>0.054575</td>\n",
       "      <td>0.286587</td>\n",
       "      <td>0.083333</td>\n",
       "      <td>1.000000</td>\n",
       "      <td>0.214401</td>\n",
       "      <td>0.195784</td>\n",
       "      <td>0.256294</td>\n",
       "      <td>0.236441</td>\n",
       "      <td>0.199950</td>\n",
       "      <td>0.055398</td>\n",
       "      <td>0.066004</td>\n",
       "      <td>0.393351</td>\n",
       "    </tr>\n",
       "    <tr>\n",
       "      <th>Total phenols</th>\n",
       "      <td>0.289101</td>\n",
       "      <td>0.335167</td>\n",
       "      <td>0.128980</td>\n",
       "      <td>0.321113</td>\n",
       "      <td>0.214401</td>\n",
       "      <td>1.000000</td>\n",
       "      <td>0.864564</td>\n",
       "      <td>0.449935</td>\n",
       "      <td>0.612413</td>\n",
       "      <td>0.055136</td>\n",
       "      <td>0.433681</td>\n",
       "      <td>0.699949</td>\n",
       "      <td>0.498115</td>\n",
       "    </tr>\n",
       "    <tr>\n",
       "      <th>Flavanoids</th>\n",
       "      <td>0.236815</td>\n",
       "      <td>0.411007</td>\n",
       "      <td>0.115077</td>\n",
       "      <td>0.351370</td>\n",
       "      <td>0.195784</td>\n",
       "      <td>0.864564</td>\n",
       "      <td>1.000000</td>\n",
       "      <td>0.537900</td>\n",
       "      <td>0.652692</td>\n",
       "      <td>0.172379</td>\n",
       "      <td>0.543479</td>\n",
       "      <td>0.787194</td>\n",
       "      <td>0.494193</td>\n",
       "    </tr>\n",
       "    <tr>\n",
       "      <th>NonFlavanoid phenols</th>\n",
       "      <td>0.155929</td>\n",
       "      <td>0.292977</td>\n",
       "      <td>0.186230</td>\n",
       "      <td>0.361922</td>\n",
       "      <td>0.256294</td>\n",
       "      <td>0.449935</td>\n",
       "      <td>0.537900</td>\n",
       "      <td>1.000000</td>\n",
       "      <td>0.365845</td>\n",
       "      <td>0.139057</td>\n",
       "      <td>0.262640</td>\n",
       "      <td>0.503270</td>\n",
       "      <td>0.311385</td>\n",
       "    </tr>\n",
       "    <tr>\n",
       "      <th>Proanthocyanins</th>\n",
       "      <td>0.136698</td>\n",
       "      <td>0.220746</td>\n",
       "      <td>0.009652</td>\n",
       "      <td>0.197327</td>\n",
       "      <td>0.236441</td>\n",
       "      <td>0.612413</td>\n",
       "      <td>0.652692</td>\n",
       "      <td>0.365845</td>\n",
       "      <td>1.000000</td>\n",
       "      <td>0.025250</td>\n",
       "      <td>0.295544</td>\n",
       "      <td>0.519067</td>\n",
       "      <td>0.330417</td>\n",
       "    </tr>\n",
       "    <tr>\n",
       "      <th>Color intensity</th>\n",
       "      <td>0.546364</td>\n",
       "      <td>0.248985</td>\n",
       "      <td>0.258887</td>\n",
       "      <td>0.018732</td>\n",
       "      <td>0.199950</td>\n",
       "      <td>0.055136</td>\n",
       "      <td>0.172379</td>\n",
       "      <td>0.139057</td>\n",
       "      <td>0.025250</td>\n",
       "      <td>1.000000</td>\n",
       "      <td>0.521813</td>\n",
       "      <td>0.428815</td>\n",
       "      <td>0.316100</td>\n",
       "    </tr>\n",
       "    <tr>\n",
       "      <th>Hue</th>\n",
       "      <td>0.071747</td>\n",
       "      <td>0.561296</td>\n",
       "      <td>0.074667</td>\n",
       "      <td>0.273955</td>\n",
       "      <td>0.055398</td>\n",
       "      <td>0.433681</td>\n",
       "      <td>0.543479</td>\n",
       "      <td>0.262640</td>\n",
       "      <td>0.295544</td>\n",
       "      <td>0.521813</td>\n",
       "      <td>1.000000</td>\n",
       "      <td>0.565468</td>\n",
       "      <td>0.236183</td>\n",
       "    </tr>\n",
       "    <tr>\n",
       "      <th>OD280/OD315 of diluted wines</th>\n",
       "      <td>0.072343</td>\n",
       "      <td>0.368710</td>\n",
       "      <td>0.003911</td>\n",
       "      <td>0.276769</td>\n",
       "      <td>0.066004</td>\n",
       "      <td>0.699949</td>\n",
       "      <td>0.787194</td>\n",
       "      <td>0.503270</td>\n",
       "      <td>0.519067</td>\n",
       "      <td>0.428815</td>\n",
       "      <td>0.565468</td>\n",
       "      <td>1.000000</td>\n",
       "      <td>0.312761</td>\n",
       "    </tr>\n",
       "    <tr>\n",
       "      <th>Proline</th>\n",
       "      <td>0.643720</td>\n",
       "      <td>0.192011</td>\n",
       "      <td>0.223626</td>\n",
       "      <td>0.440597</td>\n",
       "      <td>0.393351</td>\n",
       "      <td>0.498115</td>\n",
       "      <td>0.494193</td>\n",
       "      <td>0.311385</td>\n",
       "      <td>0.330417</td>\n",
       "      <td>0.316100</td>\n",
       "      <td>0.236183</td>\n",
       "      <td>0.312761</td>\n",
       "      <td>1.000000</td>\n",
       "    </tr>\n",
       "  </tbody>\n",
       "</table>\n",
       "</div>"
      ],
      "text/plain": [
       "                               Alcohol  Malic Acid       Ash  \\\n",
       "Alcohol                       1.000000    0.094397  0.211545   \n",
       "Malic Acid                    0.094397    1.000000  0.164045   \n",
       "Ash                           0.211545    0.164045  1.000000   \n",
       "Acalinity of Ash              0.310235    0.288500  0.443367   \n",
       "Manganesium                   0.270798    0.054575  0.286587   \n",
       "Total phenols                 0.289101    0.335167  0.128980   \n",
       "Flavanoids                    0.236815    0.411007  0.115077   \n",
       "NonFlavanoid phenols          0.155929    0.292977  0.186230   \n",
       "Proanthocyanins               0.136698    0.220746  0.009652   \n",
       "Color intensity               0.546364    0.248985  0.258887   \n",
       "Hue                           0.071747    0.561296  0.074667   \n",
       "OD280/OD315 of diluted wines  0.072343    0.368710  0.003911   \n",
       "Proline                       0.643720    0.192011  0.223626   \n",
       "\n",
       "                              Acalinity of Ash  Manganesium  Total phenols  \\\n",
       "Alcohol                               0.310235     0.270798       0.289101   \n",
       "Malic Acid                            0.288500     0.054575       0.335167   \n",
       "Ash                                   0.443367     0.286587       0.128980   \n",
       "Acalinity of Ash                      1.000000     0.083333       0.321113   \n",
       "Manganesium                           0.083333     1.000000       0.214401   \n",
       "Total phenols                         0.321113     0.214401       1.000000   \n",
       "Flavanoids                            0.351370     0.195784       0.864564   \n",
       "NonFlavanoid phenols                  0.361922     0.256294       0.449935   \n",
       "Proanthocyanins                       0.197327     0.236441       0.612413   \n",
       "Color intensity                       0.018732     0.199950       0.055136   \n",
       "Hue                                   0.273955     0.055398       0.433681   \n",
       "OD280/OD315 of diluted wines          0.276769     0.066004       0.699949   \n",
       "Proline                               0.440597     0.393351       0.498115   \n",
       "\n",
       "                              Flavanoids  NonFlavanoid phenols  \\\n",
       "Alcohol                         0.236815              0.155929   \n",
       "Malic Acid                      0.411007              0.292977   \n",
       "Ash                             0.115077              0.186230   \n",
       "Acalinity of Ash                0.351370              0.361922   \n",
       "Manganesium                     0.195784              0.256294   \n",
       "Total phenols                   0.864564              0.449935   \n",
       "Flavanoids                      1.000000              0.537900   \n",
       "NonFlavanoid phenols            0.537900              1.000000   \n",
       "Proanthocyanins                 0.652692              0.365845   \n",
       "Color intensity                 0.172379              0.139057   \n",
       "Hue                             0.543479              0.262640   \n",
       "OD280/OD315 of diluted wines    0.787194              0.503270   \n",
       "Proline                         0.494193              0.311385   \n",
       "\n",
       "                              Proanthocyanins  Color intensity       Hue  \\\n",
       "Alcohol                              0.136698         0.546364  0.071747   \n",
       "Malic Acid                           0.220746         0.248985  0.561296   \n",
       "Ash                                  0.009652         0.258887  0.074667   \n",
       "Acalinity of Ash                     0.197327         0.018732  0.273955   \n",
       "Manganesium                          0.236441         0.199950  0.055398   \n",
       "Total phenols                        0.612413         0.055136  0.433681   \n",
       "Flavanoids                           0.652692         0.172379  0.543479   \n",
       "NonFlavanoid phenols                 0.365845         0.139057  0.262640   \n",
       "Proanthocyanins                      1.000000         0.025250  0.295544   \n",
       "Color intensity                      0.025250         1.000000  0.521813   \n",
       "Hue                                  0.295544         0.521813  1.000000   \n",
       "OD280/OD315 of diluted wines         0.519067         0.428815  0.565468   \n",
       "Proline                              0.330417         0.316100  0.236183   \n",
       "\n",
       "                              OD280/OD315 of diluted wines   Proline  \n",
       "Alcohol                                           0.072343  0.643720  \n",
       "Malic Acid                                        0.368710  0.192011  \n",
       "Ash                                               0.003911  0.223626  \n",
       "Acalinity of Ash                                  0.276769  0.440597  \n",
       "Manganesium                                       0.066004  0.393351  \n",
       "Total phenols                                     0.699949  0.498115  \n",
       "Flavanoids                                        0.787194  0.494193  \n",
       "NonFlavanoid phenols                              0.503270  0.311385  \n",
       "Proanthocyanins                                   0.519067  0.330417  \n",
       "Color intensity                                   0.428815  0.316100  \n",
       "Hue                                               0.565468  0.236183  \n",
       "OD280/OD315 of diluted wines                      1.000000  0.312761  \n",
       "Proline                                           0.312761  1.000000  "
      ]
     },
     "execution_count": 10,
     "metadata": {},
     "output_type": "execute_result"
    }
   ],
   "source": [
    "corr_matrix=data.corr().abs()\n",
    "\n",
    "corr_matrix"
   ]
  },
  {
   "cell_type": "code",
   "execution_count": 11,
   "metadata": {},
   "outputs": [
    {
     "data": {
      "text/plain": [
       "<matplotlib.axes._subplots.AxesSubplot at 0x1cdf7ba3518>"
      ]
     },
     "execution_count": 11,
     "metadata": {},
     "output_type": "execute_result"
    },
    {
     "data": {
      "image/png": "[encoded data removed]",
      "text/plain": [
       "<Figure size 432x288 with 2 Axes>"
      ]
     },
     "metadata": {
      "needs_background": "light"
     },
     "output_type": "display_data"
    }
   ],
   "source": [
    "import seaborn as sns\n",
    "import numpy as np\n",
    "\n",
    "\n",
    "sns.heatmap(corr_matrix, \n",
    "        xticklabels=data.columns,\n",
    "        yticklabels=data.columns)"
   ]
  },
  {
   "cell_type": "markdown",
   "metadata": {},
   "source": [
    "From the above heatmap, we can observe that only 2 columns are co-related with each other viz. Flavanoids and Total Phenol. The score is 0.86 approx. but it does not satisfy the threshold value that we set that is 0.95. So we will not be removing any columns from the dataframe."
   ]
  },
  {
   "cell_type": "markdown",
   "metadata": {},
   "source": [
    "Let's analyze our data. We will use describe function to check the magnitude of all columns. After analysis, if required, we will scale the columns to common magnitude."
   ]
  },
  {
   "cell_type": "code",
   "execution_count": 12,
   "metadata": {},
   "outputs": [
    {
     "data": {
      "text/html": [
       "<div>\n",
       "<style scoped>\n",
       "    .dataframe tbody tr th:only-of-type {\n",
       "        vertical-align: middle;\n",
       "    }\n",
       "\n",
       "    .dataframe tbody tr th {\n",
       "        vertical-align: top;\n",
       "    }\n",
       "\n",
       "    .dataframe thead th {\n",
       "        text-align: right;\n",
       "    }\n",
       "</style>\n",
       "<table border=\"1\" class=\"dataframe\">\n",
       "  <thead>\n",
       "    <tr style=\"text-align: right;\">\n",
       "      <th></th>\n",
       "      <th>Alcohol</th>\n",
       "      <th>Malic Acid</th>\n",
       "      <th>Ash</th>\n",
       "      <th>Acalinity of Ash</th>\n",
       "      <th>Manganesium</th>\n",
       "      <th>Total phenols</th>\n",
       "      <th>Flavanoids</th>\n",
       "      <th>NonFlavanoid phenols</th>\n",
       "      <th>Proanthocyanins</th>\n",
       "      <th>Color intensity</th>\n",
       "      <th>Hue</th>\n",
       "      <th>OD280/OD315 of diluted wines</th>\n",
       "      <th>Proline</th>\n",
       "    </tr>\n",
       "  </thead>\n",
       "  <tbody>\n",
       "    <tr>\n",
       "      <th>count</th>\n",
       "      <td>178.000000</td>\n",
       "      <td>178.000000</td>\n",
       "      <td>178.000000</td>\n",
       "      <td>178.000000</td>\n",
       "      <td>178.000000</td>\n",
       "      <td>178.000000</td>\n",
       "      <td>178.000000</td>\n",
       "      <td>178.000000</td>\n",
       "      <td>178.000000</td>\n",
       "      <td>178.000000</td>\n",
       "      <td>178.000000</td>\n",
       "      <td>178.000000</td>\n",
       "      <td>178.000000</td>\n",
       "    </tr>\n",
       "    <tr>\n",
       "      <th>mean</th>\n",
       "      <td>13.000618</td>\n",
       "      <td>2.336348</td>\n",
       "      <td>2.366517</td>\n",
       "      <td>19.494944</td>\n",
       "      <td>99.741573</td>\n",
       "      <td>2.295112</td>\n",
       "      <td>2.029270</td>\n",
       "      <td>0.361854</td>\n",
       "      <td>1.590899</td>\n",
       "      <td>5.058090</td>\n",
       "      <td>0.957449</td>\n",
       "      <td>2.611685</td>\n",
       "      <td>746.893258</td>\n",
       "    </tr>\n",
       "    <tr>\n",
       "      <th>std</th>\n",
       "      <td>0.811827</td>\n",
       "      <td>1.117146</td>\n",
       "      <td>0.274344</td>\n",
       "      <td>3.339564</td>\n",
       "      <td>14.282484</td>\n",
       "      <td>0.625851</td>\n",
       "      <td>0.998859</td>\n",
       "      <td>0.124453</td>\n",
       "      <td>0.572359</td>\n",
       "      <td>2.318286</td>\n",
       "      <td>0.228572</td>\n",
       "      <td>0.709990</td>\n",
       "      <td>314.907474</td>\n",
       "    </tr>\n",
       "    <tr>\n",
       "      <th>min</th>\n",
       "      <td>11.030000</td>\n",
       "      <td>0.740000</td>\n",
       "      <td>1.360000</td>\n",
       "      <td>10.600000</td>\n",
       "      <td>70.000000</td>\n",
       "      <td>0.980000</td>\n",
       "      <td>0.340000</td>\n",
       "      <td>0.130000</td>\n",
       "      <td>0.410000</td>\n",
       "      <td>1.280000</td>\n",
       "      <td>0.480000</td>\n",
       "      <td>1.270000</td>\n",
       "      <td>278.000000</td>\n",
       "    </tr>\n",
       "    <tr>\n",
       "      <th>25%</th>\n",
       "      <td>12.362500</td>\n",
       "      <td>1.602500</td>\n",
       "      <td>2.210000</td>\n",
       "      <td>17.200000</td>\n",
       "      <td>88.000000</td>\n",
       "      <td>1.742500</td>\n",
       "      <td>1.205000</td>\n",
       "      <td>0.270000</td>\n",
       "      <td>1.250000</td>\n",
       "      <td>3.220000</td>\n",
       "      <td>0.782500</td>\n",
       "      <td>1.937500</td>\n",
       "      <td>500.500000</td>\n",
       "    </tr>\n",
       "    <tr>\n",
       "      <th>50%</th>\n",
       "      <td>13.050000</td>\n",
       "      <td>1.865000</td>\n",
       "      <td>2.360000</td>\n",
       "      <td>19.500000</td>\n",
       "      <td>98.000000</td>\n",
       "      <td>2.355000</td>\n",
       "      <td>2.135000</td>\n",
       "      <td>0.340000</td>\n",
       "      <td>1.555000</td>\n",
       "      <td>4.690000</td>\n",
       "      <td>0.965000</td>\n",
       "      <td>2.780000</td>\n",
       "      <td>673.500000</td>\n",
       "    </tr>\n",
       "    <tr>\n",
       "      <th>75%</th>\n",
       "      <td>13.677500</td>\n",
       "      <td>3.082500</td>\n",
       "      <td>2.557500</td>\n",
       "      <td>21.500000</td>\n",
       "      <td>107.000000</td>\n",
       "      <td>2.800000</td>\n",
       "      <td>2.875000</td>\n",
       "      <td>0.437500</td>\n",
       "      <td>1.950000</td>\n",
       "      <td>6.200000</td>\n",
       "      <td>1.120000</td>\n",
       "      <td>3.170000</td>\n",
       "      <td>985.000000</td>\n",
       "    </tr>\n",
       "    <tr>\n",
       "      <th>max</th>\n",
       "      <td>14.830000</td>\n",
       "      <td>5.800000</td>\n",
       "      <td>3.230000</td>\n",
       "      <td>30.000000</td>\n",
       "      <td>162.000000</td>\n",
       "      <td>3.880000</td>\n",
       "      <td>5.080000</td>\n",
       "      <td>0.660000</td>\n",
       "      <td>3.580000</td>\n",
       "      <td>13.000000</td>\n",
       "      <td>1.710000</td>\n",
       "      <td>4.000000</td>\n",
       "      <td>1680.000000</td>\n",
       "    </tr>\n",
       "  </tbody>\n",
       "</table>\n",
       "</div>"
      ],
      "text/plain": [
       "          Alcohol  Malic Acid         Ash  Acalinity of Ash  Manganesium  \\\n",
       "count  178.000000  178.000000  178.000000        178.000000   178.000000   \n",
       "mean    13.000618    2.336348    2.366517         19.494944    99.741573   \n",
       "std      0.811827    1.117146    0.274344          3.339564    14.282484   \n",
       "min     11.030000    0.740000    1.360000         10.600000    70.000000   \n",
       "25%     12.362500    1.602500    2.210000         17.200000    88.000000   \n",
       "50%     13.050000    1.865000    2.360000         19.500000    98.000000   \n",
       "75%     13.677500    3.082500    2.557500         21.500000   107.000000   \n",
       "max     14.830000    5.800000    3.230000         30.000000   162.000000   \n",
       "\n",
       "       Total phenols  Flavanoids  NonFlavanoid phenols  Proanthocyanins  \\\n",
       "count     178.000000  178.000000            178.000000       178.000000   \n",
       "mean        2.295112    2.029270              0.361854         1.590899   \n",
       "std         0.625851    0.998859              0.124453         0.572359   \n",
       "min         0.980000    0.340000              0.130000         0.410000   \n",
       "25%         1.742500    1.205000              0.270000         1.250000   \n",
       "50%         2.355000    2.135000              0.340000         1.555000   \n",
       "75%         2.800000    2.875000              0.437500         1.950000   \n",
       "max         3.880000    5.080000              0.660000         3.580000   \n",
       "\n",
       "       Color intensity         Hue  OD280/OD315 of diluted wines      Proline  \n",
       "count       178.000000  178.000000                    178.000000   178.000000  \n",
       "mean          5.058090    0.957449                      2.611685   746.893258  \n",
       "std           2.318286    0.228572                      0.709990   314.907474  \n",
       "min           1.280000    0.480000                      1.270000   278.000000  \n",
       "25%           3.220000    0.782500                      1.937500   500.500000  \n",
       "50%           4.690000    0.965000                      2.780000   673.500000  \n",
       "75%           6.200000    1.120000                      3.170000   985.000000  \n",
       "max          13.000000    1.710000                      4.000000  1680.000000  "
      ]
     },
     "execution_count": 12,
     "metadata": {},
     "output_type": "execute_result"
    }
   ],
   "source": [
    "data.describe()"
   ]
  },
  {
   "cell_type": "markdown",
   "metadata": {},
   "source": [
    "For the above statistics, we can see that some columns have higher magnitudes compared to other columns. For e.g. Manganesium & Proline. Since k-mean is based on distances, if the magnitude varies, it will affect the output directly. So its important to bring all the columns to same scale."
   ]
  },
  {
   "cell_type": "code",
   "execution_count": 13,
   "metadata": {},
   "outputs": [
    {
     "data": {
      "text/html": [
       "<div>\n",
       "<style scoped>\n",
       "    .dataframe tbody tr th:only-of-type {\n",
       "        vertical-align: middle;\n",
       "    }\n",
       "\n",
       "    .dataframe tbody tr th {\n",
       "        vertical-align: top;\n",
       "    }\n",
       "\n",
       "    .dataframe thead th {\n",
       "        text-align: right;\n",
       "    }\n",
       "</style>\n",
       "<table border=\"1\" class=\"dataframe\">\n",
       "  <thead>\n",
       "    <tr style=\"text-align: right;\">\n",
       "      <th></th>\n",
       "      <th>0</th>\n",
       "      <th>1</th>\n",
       "      <th>2</th>\n",
       "      <th>3</th>\n",
       "      <th>4</th>\n",
       "      <th>5</th>\n",
       "      <th>6</th>\n",
       "      <th>7</th>\n",
       "      <th>8</th>\n",
       "      <th>9</th>\n",
       "      <th>10</th>\n",
       "      <th>11</th>\n",
       "      <th>12</th>\n",
       "    </tr>\n",
       "  </thead>\n",
       "  <tbody>\n",
       "    <tr>\n",
       "      <th>count</th>\n",
       "      <td>1.780000e+02</td>\n",
       "      <td>1.780000e+02</td>\n",
       "      <td>1.780000e+02</td>\n",
       "      <td>1.780000e+02</td>\n",
       "      <td>1.780000e+02</td>\n",
       "      <td>1.780000e+02</td>\n",
       "      <td>1.780000e+02</td>\n",
       "      <td>1.780000e+02</td>\n",
       "      <td>1.780000e+02</td>\n",
       "      <td>1.780000e+02</td>\n",
       "      <td>1.780000e+02</td>\n",
       "      <td>1.780000e+02</td>\n",
       "      <td>1.780000e+02</td>\n",
       "    </tr>\n",
       "    <tr>\n",
       "      <th>mean</th>\n",
       "      <td>-8.619821e-16</td>\n",
       "      <td>-8.357859e-17</td>\n",
       "      <td>-8.657245e-16</td>\n",
       "      <td>-1.160121e-16</td>\n",
       "      <td>-1.995907e-17</td>\n",
       "      <td>-2.972030e-16</td>\n",
       "      <td>-4.016762e-16</td>\n",
       "      <td>4.079134e-16</td>\n",
       "      <td>-1.699639e-16</td>\n",
       "      <td>-1.247442e-18</td>\n",
       "      <td>3.717376e-16</td>\n",
       "      <td>2.919013e-16</td>\n",
       "      <td>-7.484650e-18</td>\n",
       "    </tr>\n",
       "    <tr>\n",
       "      <th>std</th>\n",
       "      <td>1.002821e+00</td>\n",
       "      <td>1.002821e+00</td>\n",
       "      <td>1.002821e+00</td>\n",
       "      <td>1.002821e+00</td>\n",
       "      <td>1.002821e+00</td>\n",
       "      <td>1.002821e+00</td>\n",
       "      <td>1.002821e+00</td>\n",
       "      <td>1.002821e+00</td>\n",
       "      <td>1.002821e+00</td>\n",
       "      <td>1.002821e+00</td>\n",
       "      <td>1.002821e+00</td>\n",
       "      <td>1.002821e+00</td>\n",
       "      <td>1.002821e+00</td>\n",
       "    </tr>\n",
       "    <tr>\n",
       "      <th>min</th>\n",
       "      <td>-2.434235e+00</td>\n",
       "      <td>-1.432983e+00</td>\n",
       "      <td>-3.679162e+00</td>\n",
       "      <td>-2.671018e+00</td>\n",
       "      <td>-2.088255e+00</td>\n",
       "      <td>-2.107246e+00</td>\n",
       "      <td>-1.695971e+00</td>\n",
       "      <td>-1.868234e+00</td>\n",
       "      <td>-2.069034e+00</td>\n",
       "      <td>-1.634288e+00</td>\n",
       "      <td>-2.094732e+00</td>\n",
       "      <td>-1.895054e+00</td>\n",
       "      <td>-1.493188e+00</td>\n",
       "    </tr>\n",
       "    <tr>\n",
       "      <th>25%</th>\n",
       "      <td>-7.882448e-01</td>\n",
       "      <td>-6.587486e-01</td>\n",
       "      <td>-5.721225e-01</td>\n",
       "      <td>-6.891372e-01</td>\n",
       "      <td>-8.244151e-01</td>\n",
       "      <td>-8.854682e-01</td>\n",
       "      <td>-8.275393e-01</td>\n",
       "      <td>-7.401412e-01</td>\n",
       "      <td>-5.972835e-01</td>\n",
       "      <td>-7.951025e-01</td>\n",
       "      <td>-7.675624e-01</td>\n",
       "      <td>-9.522483e-01</td>\n",
       "      <td>-7.846378e-01</td>\n",
       "    </tr>\n",
       "    <tr>\n",
       "      <th>50%</th>\n",
       "      <td>6.099988e-02</td>\n",
       "      <td>-4.231120e-01</td>\n",
       "      <td>-2.382132e-02</td>\n",
       "      <td>1.518295e-03</td>\n",
       "      <td>-1.222817e-01</td>\n",
       "      <td>9.595986e-02</td>\n",
       "      <td>1.061497e-01</td>\n",
       "      <td>-1.760948e-01</td>\n",
       "      <td>-6.289785e-02</td>\n",
       "      <td>-1.592246e-01</td>\n",
       "      <td>3.312687e-02</td>\n",
       "      <td>2.377348e-01</td>\n",
       "      <td>-2.337204e-01</td>\n",
       "    </tr>\n",
       "    <tr>\n",
       "      <th>75%</th>\n",
       "      <td>8.361286e-01</td>\n",
       "      <td>6.697929e-01</td>\n",
       "      <td>6.981085e-01</td>\n",
       "      <td>6.020883e-01</td>\n",
       "      <td>5.096384e-01</td>\n",
       "      <td>8.089974e-01</td>\n",
       "      <td>8.490851e-01</td>\n",
       "      <td>6.095413e-01</td>\n",
       "      <td>6.291754e-01</td>\n",
       "      <td>4.939560e-01</td>\n",
       "      <td>7.131644e-01</td>\n",
       "      <td>7.885875e-01</td>\n",
       "      <td>7.582494e-01</td>\n",
       "    </tr>\n",
       "    <tr>\n",
       "      <th>max</th>\n",
       "      <td>2.259772e+00</td>\n",
       "      <td>3.109192e+00</td>\n",
       "      <td>3.156325e+00</td>\n",
       "      <td>3.154511e+00</td>\n",
       "      <td>4.371372e+00</td>\n",
       "      <td>2.539515e+00</td>\n",
       "      <td>3.062832e+00</td>\n",
       "      <td>2.402403e+00</td>\n",
       "      <td>3.485073e+00</td>\n",
       "      <td>3.435432e+00</td>\n",
       "      <td>3.301694e+00</td>\n",
       "      <td>1.960915e+00</td>\n",
       "      <td>2.971473e+00</td>\n",
       "    </tr>\n",
       "  </tbody>\n",
       "</table>\n",
       "</div>"
      ],
      "text/plain": [
       "                 0             1             2             3             4   \\\n",
       "count  1.780000e+02  1.780000e+02  1.780000e+02  1.780000e+02  1.780000e+02   \n",
       "mean  -8.619821e-16 -8.357859e-17 -8.657245e-16 -1.160121e-16 -1.995907e-17   \n",
       "std    1.002821e+00  1.002821e+00  1.002821e+00  1.002821e+00  1.002821e+00   \n",
       "min   -2.434235e+00 -1.432983e+00 -3.679162e+00 -2.671018e+00 -2.088255e+00   \n",
       "25%   -7.882448e-01 -6.587486e-01 -5.721225e-01 -6.891372e-01 -8.244151e-01   \n",
       "50%    6.099988e-02 -4.231120e-01 -2.382132e-02  1.518295e-03 -1.222817e-01   \n",
       "75%    8.361286e-01  6.697929e-01  6.981085e-01  6.020883e-01  5.096384e-01   \n",
       "max    2.259772e+00  3.109192e+00  3.156325e+00  3.154511e+00  4.371372e+00   \n",
       "\n",
       "                 5             6             7             8             9   \\\n",
       "count  1.780000e+02  1.780000e+02  1.780000e+02  1.780000e+02  1.780000e+02   \n",
       "mean  -2.972030e-16 -4.016762e-16  4.079134e-16 -1.699639e-16 -1.247442e-18   \n",
       "std    1.002821e+00  1.002821e+00  1.002821e+00  1.002821e+00  1.002821e+00   \n",
       "min   -2.107246e+00 -1.695971e+00 -1.868234e+00 -2.069034e+00 -1.634288e+00   \n",
       "25%   -8.854682e-01 -8.275393e-01 -7.401412e-01 -5.972835e-01 -7.951025e-01   \n",
       "50%    9.595986e-02  1.061497e-01 -1.760948e-01 -6.289785e-02 -1.592246e-01   \n",
       "75%    8.089974e-01  8.490851e-01  6.095413e-01  6.291754e-01  4.939560e-01   \n",
       "max    2.539515e+00  3.062832e+00  2.402403e+00  3.485073e+00  3.435432e+00   \n",
       "\n",
       "                 10            11            12  \n",
       "count  1.780000e+02  1.780000e+02  1.780000e+02  \n",
       "mean   3.717376e-16  2.919013e-16 -7.484650e-18  \n",
       "std    1.002821e+00  1.002821e+00  1.002821e+00  \n",
       "min   -2.094732e+00 -1.895054e+00 -1.493188e+00  \n",
       "25%   -7.675624e-01 -9.522483e-01 -7.846378e-01  \n",
       "50%    3.312687e-02  2.377348e-01 -2.337204e-01  \n",
       "75%    7.131644e-01  7.885875e-01  7.582494e-01  \n",
       "max    3.301694e+00  1.960915e+00  2.971473e+00  "
      ]
     },
     "execution_count": 13,
     "metadata": {},
     "output_type": "execute_result"
    }
   ],
   "source": [
    "# standardizing the data\n",
    "from sklearn.preprocessing import StandardScaler\n",
    "scaler = StandardScaler()\n",
    "data = scaler.fit_transform(data)\n",
    "\n",
    "# statistics of scaled data\n",
    "pd.DataFrame(data).describe()"
   ]
  },
  {
   "cell_type": "markdown",
   "metadata": {},
   "source": [
    "## Modelling"
   ]
  },
  {
   "cell_type": "markdown",
   "metadata": {},
   "source": [
    "Lets go ahead and apply our k-means clustering model. But before we do that, we need to identify the optimal number of clusters for our datasets. We can do that using **ELBOW METHOD**."
   ]
  },
  {
   "cell_type": "code",
   "execution_count": 14,
   "metadata": {},
   "outputs": [],
   "source": [
    "from sklearn.cluster import KMeans\n",
    "from sklearn import metrics\n",
    "from scipy.spatial.distance import cdist\n",
    "import numpy as np\n",
    "import matplotlib.pyplot as plt\n",
    "\n",
    "distortions=[]\n",
    "\n",
    "K = range(1,10)\n",
    "for k in K:\n",
    "    kmeanModel = KMeans(n_clusters=k).fit(data)\n",
    "    kmeanModel.fit(data)\n",
    "    distortions.append(sum(np.min(cdist(data, kmeanModel.cluster_centers_, 'euclidean'), axis=1)) / data.shape[0])"
   ]
  },
  {
   "cell_type": "code",
   "execution_count": 15,
   "metadata": {},
   "outputs": [
    {
     "data": {
      "image/png": "[encoded data removed]",
      "text/plain": [
       "<Figure size 432x288 with 1 Axes>"
      ]
     },
     "metadata": {
      "needs_background": "light"
     },
     "output_type": "display_data"
    }
   ],
   "source": [
    "plt.plot(K, distortions, 'bx-')\n",
    "plt.xlabel('k')\n",
    "plt.ylabel('Distortion')\n",
    "plt.title('The Elbow Method showing the optimal k')\n",
    "plt.show()"
   ]
  },
  {
   "cell_type": "markdown",
   "metadata": {},
   "source": [
    " Based on the above graph, we can see that at k=3, the graph converges and creates an elbow. So we will be using **number of clusters(K) equal to 3**."
   ]
  },
  {
   "cell_type": "markdown",
   "metadata": {},
   "source": [
    "## Visualization before clustering\n",
    "\n",
    "Lets plot the data before we apply k-means on the data. Plotting 13 columns together will be a very difficult task. Hence we need to perform dimensionality reduction to reduce it to 2 dimensions. This 2 dimension will be equivalent to 13 dimensions."
   ]
  },
  {
   "cell_type": "code",
   "execution_count": 16,
   "metadata": {},
   "outputs": [
    {
     "data": {
      "text/plain": [
       "<matplotlib.collections.PathCollection at 0x1cdf880aba8>"
      ]
     },
     "execution_count": 16,
     "metadata": {},
     "output_type": "execute_result"
    },
    {
     "data": {
      "image/png": "[encoded data removed]",
      "text/plain": [
       "<Figure size 432x288 with 1 Axes>"
      ]
     },
     "metadata": {
      "needs_background": "light"
     },
     "output_type": "display_data"
    }
   ],
   "source": [
    "from sklearn.decomposition import PCA\n",
    "from sklearn.cluster import KMeans\n",
    "from sklearn.datasets import load_iris\n",
    "import pylab as pl\n",
    "iris = load_iris()\n",
    "pca = PCA(n_components=2).fit(data)\n",
    "pca_2d = pca.transform(data)\n",
    "pl.figure('Reference Plot')\n",
    "pl.scatter(pca_2d[:, 0], pca_2d[:, 1], c=y)"
   ]
  },
  {
   "cell_type": "markdown",
   "metadata": {},
   "source": [
    "### Let apply k-means clustering on our dataset"
   ]
  },
  {
   "cell_type": "code",
   "execution_count": 17,
   "metadata": {},
   "outputs": [],
   "source": [
    "#define k_mean object with different hyperparamter.\n",
    "kmeans = KMeans(n_clusters=3, init = 'k-means++', max_iter = 100, random_state = 5)"
   ]
  },
  {
   "cell_type": "code",
   "execution_count": 18,
   "metadata": {},
   "outputs": [
    {
     "data": {
      "text/plain": [
       "KMeans(algorithm='auto', copy_x=True, init='k-means++', max_iter=100,\n",
       "       n_clusters=3, n_init=10, n_jobs=None, precompute_distances='auto',\n",
       "       random_state=5, tol=0.0001, verbose=0)"
      ]
     },
     "execution_count": 18,
     "metadata": {},
     "output_type": "execute_result"
    }
   ],
   "source": [
    "kmeans.fit(data)"
   ]
  },
  {
   "cell_type": "code",
   "execution_count": 19,
   "metadata": {},
   "outputs": [
    {
     "data": {
      "text/plain": [
       "array([[-0.92607185, -0.39404154, -0.49451676,  0.17060184, -0.49171185,\n",
       "        -0.07598265,  0.02081257, -0.03353357,  0.0582655 , -0.90191402,\n",
       "         0.46180361,  0.27076419, -0.75384618],\n",
       "       [ 0.83523208, -0.30380968,  0.36470604, -0.61019129,  0.5775868 ,\n",
       "         0.88523736,  0.97781956, -0.56208965,  0.58028658,  0.17106348,\n",
       "         0.47398365,  0.77924711,  1.12518529],\n",
       "       [ 0.16490746,  0.87154706,  0.18689833,  0.52436746, -0.07547277,\n",
       "        -0.97933029, -1.21524764,  0.72606354, -0.77970639,  0.94153874,\n",
       "        -1.16478865, -1.29241163, -0.40708796]])"
      ]
     },
     "execution_count": 19,
     "metadata": {},
     "output_type": "execute_result"
    }
   ],
   "source": [
    "kmeans.cluster_centers_"
   ]
  },
  {
   "cell_type": "code",
   "execution_count": 24,
   "metadata": {},
   "outputs": [
    {
     "data": {
      "text/plain": [
       "array([2, 2, 2, 2, 2, 2, 2, 2, 2, 2, 2, 2, 2, 2, 2, 2, 2, 2, 2, 2, 2, 2,\n",
       "       2, 2, 2, 2, 2, 2, 2, 2, 2, 2, 2, 2, 2, 2, 2, 2, 2, 2, 2, 2, 2, 2,\n",
       "       2, 2, 2, 2, 2, 2, 2, 2, 2, 2, 2, 2, 2, 2, 2, 1, 1, 3, 1, 1, 1, 1,\n",
       "       1, 1, 1, 1, 1, 1, 1, 2, 1, 1, 1, 1, 1, 1, 1, 1, 1, 3, 1, 1, 1, 1,\n",
       "       1, 1, 1, 1, 1, 1, 1, 2, 1, 1, 1, 1, 1, 1, 1, 1, 1, 1, 1, 1, 1, 1,\n",
       "       1, 1, 1, 1, 1, 1, 1, 1, 3, 1, 1, 2, 1, 1, 1, 1, 1, 1, 1, 1, 3, 3,\n",
       "       3, 3, 3, 3, 3, 3, 3, 3, 3, 3, 3, 3, 3, 3, 3, 3, 3, 3, 3, 3, 3, 3,\n",
       "       3, 3, 3, 3, 3, 3, 3, 3, 3, 3, 3, 3, 3, 3, 3, 3, 3, 3, 3, 3, 3, 3,\n",
       "       3, 3])"
      ]
     },
     "execution_count": 24,
     "metadata": {},
     "output_type": "execute_result"
    }
   ],
   "source": [
    "kmeans.labels_+1"
   ]
  },
  {
   "cell_type": "markdown",
   "metadata": {},
   "source": [
    "## Visulaizing after clustering"
   ]
  },
  {
   "cell_type": "code",
   "execution_count": 21,
   "metadata": {},
   "outputs": [
    {
     "data": {
      "image/png": "[encoded data removed]",
      "text/plain": [
       "<Figure size 432x288 with 1 Axes>"
      ]
     },
     "metadata": {
      "needs_background": "light"
     },
     "output_type": "display_data"
    }
   ],
   "source": [
    "pl.figure('K-means with 3 clusters')\n",
    "pl.scatter(pca_2d[:, 0], pca_2d[:, 1], c=kmeans.labels_)\n",
    "pl.show()"
   ]
  },
  {
   "cell_type": "markdown",
   "metadata": {},
   "source": [
    "## Verifying K with our output variable (y)"
   ]
  },
  {
   "cell_type": "code",
   "execution_count": 22,
   "metadata": {},
   "outputs": [
    {
     "data": {
      "text/plain": [
       "array([1, 2, 3], dtype=int64)"
      ]
     },
     "execution_count": 22,
     "metadata": {},
     "output_type": "execute_result"
    }
   ],
   "source": [
    "y.unique()"
   ]
  },
  {
   "cell_type": "markdown",
   "metadata": {},
   "source": [
    "As we can see that the unique classes of wine are 3 and our number of clusters are also 3. Hence our centroid calculation and model training worked successfully."
   ]
  },
  {
   "cell_type": "markdown",
   "metadata": {},
   "source": [
    "## Appendix"
   ]
  },
  {
   "cell_type": "markdown",
   "metadata": {},
   "source": [
    "There is an another way to identify k for k-means. It can be calculated using inertia for the model. Following graph depicts the inertia for our data."
   ]
  },
  {
   "cell_type": "code",
   "execution_count": 23,
   "metadata": {},
   "outputs": [
    {
     "data": {
      "image/png": "[encoded data removed]",
      "text/plain": [
       "<Figure size 432x288 with 1 Axes>"
      ]
     },
     "metadata": {
      "needs_background": "light"
     },
     "output_type": "display_data"
    }
   ],
   "source": [
    "Sum_of_squared_distances = []\n",
    "K = range(1,10)\n",
    "for k in K:\n",
    "    km = KMeans(n_clusters=k)\n",
    "    km = km.fit(data)\n",
    "    Sum_of_squared_distances.append(km.inertia_)\n",
    "    \n",
    "    \n",
    "plt.plot(K, Sum_of_squared_distances, 'bx-')\n",
    "plt.xlabel('k')\n",
    "plt.ylabel('Sum_of_squared_distances')\n",
    "plt.title('Elbow Method For Optimal k')\n",
    "plt.show()"
   ]
  },
  {
   "cell_type": "markdown",
   "metadata": {},
   "source": [
    "As we can see from the above graph, the plot converges at k=3 and forms an elbow. So we can use either distortion or inertia."
   ]
  }
 ],
 "metadata": {
  "kernelspec": {
   "display_name": "Python 3",
   "language": "python",
   "name": "python3"
  },
  "language_info": {
   "codemirror_mode": {
    "name": "ipython",
    "version": 3
   },
   "file_extension": ".py",
   "mimetype": "text/x-python",
   "name": "python",
   "nbconvert_exporter": "python",
   "pygments_lexer": "ipython3",
   "version": "3.7.3"
  }
 },
 "nbformat": 4,
 "nbformat_minor": 4
}
